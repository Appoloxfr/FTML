{
 "cells": [
  {
   "cell_type": "code",
   "execution_count": 1,
   "id": "8311a5ae",
   "metadata": {},
   "outputs": [],
   "source": [
    "import numpy as np\n",
    "import os\n",
    "import matplotlib.pyplot as plt\n",
    "from sklearn.decomposition import PCA\n",
    "from sklearn.linear_model import LogisticRegression\n",
    "\n",
    "from sklearn.ensemble import RandomForestClassifier\n",
    "from sklearn.linear_model import LogisticRegression, Perceptron, SGDClassifier\n",
    "from sklearn.metrics import accuracy_score, r2_score\n",
    "\n",
    "from sklearn.model_selection import cross_validate, train_test_split, cross_val_score\n",
    "import matplotlib.pyplot as plt\n",
    "from sklearn.preprocessing import LabelBinarizer, StandardScaler\n",
    "from sklearn.svm import SVC, LinearSVC\n",
    "from sklearn.tree import DecisionTreeClassifier\n"
   ]
  },
  {
   "cell_type": "code",
   "execution_count": 2,
   "id": "4ad85113",
   "metadata": {},
   "outputs": [],
   "source": [
    "X_train = np.load(os.path.join(\"data\", \"X_train.npy\"))\n",
    "X_test = np.load(os.path.join(\"data\", \"X_test.npy\"))\n",
    "y_train = np.load(os.path.join(\"data\", \"y_train.npy\"))\n",
    "y_test = np.load(os.path.join(\"data\", \"y_test.npy\"))"
   ]
  },
  {
   "cell_type": "code",
   "execution_count": 3,
   "id": "bd356298",
   "metadata": {},
   "outputs": [],
   "source": [
    "models = {\n",
    "    \"DecisionTree\" : DecisionTreeClassifier(),\n",
    "    \"SGD\" : SGDClassifier(),\n",
    "    \"RandomForest\": RandomForestClassifier(),\n",
    "    \"Perceptron\" : Perceptron(),\n",
    "    \"LinearSVC\": LinearSVC(C=1),\n",
    "    \"LogisticRegression\": LogisticRegression(),\n",
    "    \"SVC\": SVC()\n",
    "}\n",
    "\n",
    "final_scores = {}"
   ]
  },
  {
   "cell_type": "code",
   "execution_count": 4,
   "id": "51a2df8b",
   "metadata": {},
   "outputs": [],
   "source": [
    "def classification_testing(classifier):\n",
    "    print(\"Starting\", classifier[0])\n",
    "    classifier[1].fit(X_train, y_train)\n",
    "    scores = cross_val_score(classifier[1], X_test, y_test, cv=10, scoring=\"accuracy\")\n",
    "    mean_score = scores.mean()\n",
    "    print(\"we got a\", '{:.2f}'.format(mean_score), \"accuracy with a standard deviation of\", '{:.2f}'.format(scores.std()))\n",
    "    print(classifier[0], \"score :\", mean_score)\n",
    "    final_scores[classifier[0]] = mean_score\n",
    "    print()"
   ]
  },
  {
   "cell_type": "code",
   "execution_count": 5,
   "id": "46eda340",
   "metadata": {
    "scrolled": false
   },
   "outputs": [
    {
     "ename": "NameError",
     "evalue": "name 'classification_models' is not defined",
     "output_type": "error",
     "traceback": [
      "\u001b[1;31m---------------------------------------------------------------------------\u001b[0m",
      "\u001b[1;31mNameError\u001b[0m                                 Traceback (most recent call last)",
      "Cell \u001b[1;32mIn[5], line 1\u001b[0m\n\u001b[1;32m----> 1\u001b[0m \u001b[38;5;28;01mfor\u001b[39;00m key, value \u001b[38;5;129;01min\u001b[39;00m \u001b[43mclassification_models\u001b[49m\u001b[38;5;241m.\u001b[39mitems():\n\u001b[0;32m      2\u001b[0m     classification_testing((key, value))\n\u001b[0;32m      3\u001b[0m plt\u001b[38;5;241m.\u001b[39mfigure(figsize\u001b[38;5;241m=\u001b[39m(\u001b[38;5;241m15\u001b[39m, \u001b[38;5;241m6\u001b[39m))   \n",
      "\u001b[1;31mNameError\u001b[0m: name 'classification_models' is not defined"
     ]
    }
   ],
   "source": [
    "for key, value in models.items():\n",
    "    classification_testing((key, value))\n",
    "plt.figure(figsize=(15, 6))   \n",
    "plt.xticks([])\n",
    "for i, classifier in enumerate(final_scores.items()):\n",
    "    print(f\"{classifier[0]} score : {classifier[1]}\")\n",
    "    plt.bar(i, classifier[1], label=classifier[0])\n",
    "    plt.text(i, classifier[1], '{:.3f}'.format(classifier[1]), ha='center', va='bottom')\n",
    "\n",
    "plt.legend(loc='center left', bbox_to_anchor=(1, 0.5))\n",
    "plt.title(\"Benchmark of the accuracy of the multiple classification algorithms on the given dataset\")\n",
    "\n",
    "plt.show()"
   ]
  }
 ],
 "metadata": {
  "kernelspec": {
   "display_name": "Python 3 (ipykernel)",
   "language": "python",
   "name": "python3"
  },
  "language_info": {
   "codemirror_mode": {
    "name": "ipython",
    "version": 3
   },
   "file_extension": ".py",
   "mimetype": "text/x-python",
   "name": "python",
   "nbconvert_exporter": "python",
   "pygments_lexer": "ipython3",
   "version": "3.11.2"
  }
 },
 "nbformat": 4,
 "nbformat_minor": 5
}
