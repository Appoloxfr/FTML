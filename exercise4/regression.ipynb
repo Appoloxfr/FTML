{
 "cells": [
  {
   "cell_type": "code",
   "execution_count": null,
   "id": "95a176ac",
   "metadata": {},
   "outputs": [],
   "source": [
    "# Import \n",
    "import numpy as np\n",
    "import matplotlib.pyplot as plt\n",
    "from mpl_toolkits.mplot3d import Axes3D\n",
    "\n",
    "from sklearn.linear_model import Ridge, Lasso, SGDRegressor, ElasticNet\n",
    "from sklearn.model_selection import ParameterGrid\n",
    "from sklearn.utils.validation import column_or_1d\n",
    "\n",
    "# R2 score\n",
    "from sklearn.metrics import r2_score\n",
    "\n",
    "from warnings import filterwarnings\n",
    "filterwarnings('ignore')\n",
    "\n",
    "from tqdm.auto import tqdm"
   ]
  },
  {
   "cell_type": "code",
   "execution_count": null,
   "id": "7836729f",
   "metadata": {},
   "outputs": [],
   "source": [
    "# Constants\n",
    "# Path to data\n",
    "PATH = \"../data/regression/\"\n",
    "SEED = 1234\n",
    "np.random.seed(SEED)"
   ]
  },
  {
   "cell_type": "code",
   "execution_count": null,
   "id": "d3087891",
   "metadata": {},
   "outputs": [],
   "source": [
    "# Load npy data\n",
    "X_train = np.load(PATH + \"X_train.npy\")\n",
    "X_test = np.load(PATH + \"X_test.npy\")\n",
    "y_train = np.load(PATH + \"y_train.npy\")\n",
    "y_test = np.load(PATH + \"y_test.npy\")\n",
    "\n",
    "# Check shapes and avoid warnings\n",
    "y_train = column_or_1d(y_train)\n",
    "y_test = column_or_1d(y_test)\n",
    "\n",
    "X_train.shape"
   ]
  },
  {
   "cell_type": "code",
   "execution_count": null,
   "id": "98280e5f",
   "metadata": {},
   "outputs": [],
   "source": [
    "models = {\n",
    "    \"ElasticNet\": ElasticNet(),\n",
    "    \"SGDRegressor\": SGDRegressor(),\n",
    "    \"Ridge\": Ridge(),\n",
    "    \"Lasso\": Lasso(),\n",
    "}"
   ]
  },
  {
   "cell_type": "code",
   "execution_count": null,
   "id": "920f9424",
   "metadata": {},
   "outputs": [],
   "source": [
    "def regression(model: object, X_train: np.ndarray, X_test: np.ndarray, y_train: np.ndarray, y_test: np.ndarray) -> tuple:\n",
    "    # Init hyperparameters\n",
    "    hyperparameters = {\n",
    "        \"alpha\": np.linspace(0.001, 0.6, 100),\n",
    "        \"max_iter\": np.linspace(1, 50, 5, dtype=int),\n",
    "    }\n",
    "    # Create grid\n",
    "    grid = ParameterGrid(hyperparameters)\n",
    "    # Init best score\n",
    "    best_score, best_param = -np.inf, None\n",
    "\n",
    "    # Save params and scores\n",
    "    params_save = []\n",
    "\n",
    "    # Loop over all hyperparameters\n",
    "    bar = tqdm(grid)\n",
    "    for params in bar:\n",
    "        bar.set_description(f\"Testing {params}\")\n",
    "        # Set params\n",
    "        model.set_params(**params)\n",
    "        # Fit model\n",
    "        model.fit(X_train, y_train)\n",
    "        # Predict\n",
    "        y_pred = model.predict(X_test)\n",
    "        # Score\n",
    "        score = r2_score(y_test, y_pred)\n",
    "        # Check if score is better\n",
    "        if score > best_score:\n",
    "            # Update best score\n",
    "            best_score = score\n",
    "            best_param = params\n",
    "        # Save params and scores\n",
    "        params_save.append((params, score))\n",
    "        \n",
    "    print(f\"Best R2 score for model {model.__class__.__name__}: {best_score} with params {best_param}\")\n",
    "    return best_score, params_save"
   ]
  },
  {
   "cell_type": "code",
   "execution_count": null,
   "id": "603c0237",
   "metadata": {},
   "outputs": [],
   "source": [
    "def compare_models(models: dict, X_train: np.ndarray, X_test: np.ndarray, y_train: np.ndarray, y_test: np.ndarray) -> tuple:\n",
    "    r2 = []\n",
    "    model_params = []\n",
    "    bar = tqdm(models.items())\n",
    "    for name, model in bar:\n",
    "        bar.set_description(f\"Training {name}\")\n",
    "        score, params = regression(model, X_train, X_test, y_train, y_test)\n",
    "        r2.append(score)\n",
    "        model_params.append(params)    \n",
    "    return r2, model_params"
   ]
  },
  {
   "cell_type": "code",
   "execution_count": null,
   "id": "e16f0985",
   "metadata": {},
   "outputs": [],
   "source": [
    "r2_scores, model_params = compare_models(models, X_train, X_test, y_train, y_test)"
   ]
  },
  {
   "cell_type": "code",
   "execution_count": null,
   "id": "4645c0bb",
   "metadata": {},
   "outputs": [],
   "source": [
    "# Plot Models Parameters\n",
    "def plot_model_params(model_params: list, models: dict) -> None:\n",
    "    fig = plt.figure(figsize=(15, 10))\n",
    "    for i, name in enumerate(models.keys()):\n",
    "        ax = fig.add_subplot(2, 2, i+1, projection='3d')\n",
    "        params = model_params[i]\n",
    "        alphas = [param[\"alpha\"] for param, _ in params]\n",
    "        max_iters = [param[\"max_iter\"] for param, _ in params]\n",
    "        scores = [score for _, score in params]\n",
    "        ax.scatter(alphas, max_iters, scores)\n",
    "        ax.set_title(name)\n",
    "        ax.set_xlabel(\"Alpha\")\n",
    "        ax.set_ylabel(\"Max Iter\")\n",
    "        ax.set_zlabel(\"R2\")\n",
    "    plt.tight_layout()\n",
    "    plt.show()\n",
    "\n",
    "plot_model_params(model_params, models)"
   ]
  },
  {
   "cell_type": "code",
   "execution_count": null,
   "id": "4895451e",
   "metadata": {},
   "outputs": [],
   "source": [
    "# Plot R2 scores\n",
    "def plot_r2_scores(r2_scores: list, models: dict) -> None:\n",
    "    fig, ax = plt.subplots(1, 1, figsize=(15, 5))\n",
    "    ax.bar(models.keys(), r2_scores)\n",
    "    ax.set_title(\"R2 scores\")\n",
    "    ax.set_xlabel(\"Model\")\n",
    "    ax.set_ylabel(\"R2\")\n",
    "\n",
    "plot_r2_scores(r2_scores, models)"
   ]
  }
 ],
 "metadata": {
  "kernelspec": {
   "display_name": "Python 3 (ipykernel)",
   "language": "python",
   "name": "python3"
  },
  "language_info": {
   "codemirror_mode": {
    "name": "ipython",
    "version": 3
   },
   "file_extension": ".py",
   "mimetype": "text/x-python",
   "name": "python",
   "nbconvert_exporter": "python",
   "pygments_lexer": "ipython3",
   "version": "3.10.11"
  }
 },
 "nbformat": 4,
 "nbformat_minor": 5
}
