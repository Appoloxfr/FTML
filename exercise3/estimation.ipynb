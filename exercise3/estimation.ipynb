{
 "cells": [
  {
   "cell_type": "code",
   "execution_count": null,
   "id": "ce93f60f",
   "metadata": {},
   "outputs": [],
   "source": [
    "import numpy as np"
   ]
  },
  {
   "cell_type": "code",
   "execution_count": null,
   "id": "144b1227",
   "metadata": {},
   "outputs": [],
   "source": [
    "SEED = 1234\n",
    "\n",
    "numpy.random.seed(SEED)"
   ]
  },
  {
   "cell_type": "code",
   "execution_count": null,
   "id": "59e333e4",
   "metadata": {},
   "outputs": [],
   "source": [
    "# Variables\n",
    "\n",
    "n = 10_000\n",
    "d = 10\n",
    "# d <= n\n",
    "sigma = 0.1"
   ]
  },
  {
   "cell_type": "code",
   "execution_count": null,
   "id": "53656a13",
   "metadata": {},
   "outputs": [],
   "source": [
    "X = np.random.rand(n, d)\n",
    "noise = np.random.normal(0, sigma, n)\n",
    "theta = np.random.rand(d)\n",
    "\n",
    "y = X @ theta  + noise\n",
    "y[:10]"
   ]
  },
  {
   "cell_type": "code",
   "execution_count": null,
   "id": "222aed36",
   "metadata": {},
   "outputs": [],
   "source": [
    "emperical_risk = np.linalg.inv(X.T @ X) @ X.T @ y\n",
    "emperical_risk"
   ]
  },
  {
   "cell_type": "code",
   "execution_count": null,
   "id": "5a0f2cd1",
   "metadata": {},
   "outputs": [],
   "source": [
    "estimator = np.sqrt(np.linalg.norm(y - X @ emperical_risk) ** 2 * ((n - d) ** -1))\n",
    "estimator"
   ]
  },
  {
   "cell_type": "code",
   "execution_count": null,
   "id": "8f6376e4",
   "metadata": {},
   "outputs": [],
   "source": []
  }
 ],
 "metadata": {
  "kernelspec": {
   "display_name": "Python 3 (ipykernel)",
   "language": "python",
   "name": "python3"
  },
  "language_info": {
   "codemirror_mode": {
    "name": "ipython",
    "version": 3
   },
   "file_extension": ".py",
   "mimetype": "text/x-python",
   "name": "python",
   "nbconvert_exporter": "python",
   "pygments_lexer": "ipython3",
   "version": "3.10.11"
  }
 },
 "nbformat": 4,
 "nbformat_minor": 5
}
