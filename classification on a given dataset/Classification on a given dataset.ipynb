{
 "cells": [
  {
   "cell_type": "markdown",
   "id": "6996b6d7",
   "metadata": {},
   "source": [
    "# Classification on a given dataset\n",
    "\n",
    "\n",
    "In this notebook, we will perform classification on a given dataset.\n",
    "\n",
    "## Import the modules\n",
    "\n",
    "Let's start by importing the necessary packages."
   ]
  },
  {
   "cell_type": "code",
   "execution_count": 1,
   "id": "61e925b5",
   "metadata": {},
   "outputs": [],
   "source": [
    "import numpy as np\n",
    "import os\n",
    "import matplotlib.pyplot as plt\n",
    "from sklearn.decomposition import PCA\n",
    "from sklearn.linear_model import LogisticRegression\n",
    "\n",
    "from sklearn.ensemble import RandomForestClassifier\n",
    "from sklearn.linear_model import LogisticRegression, Perceptron, SGDClassifier\n",
    "from sklearn.metrics import accuracy_score, r2_score\n",
    "\n",
    "from sklearn.model_selection import cross_validate, train_test_split, cross_val_score\n",
    "import matplotlib.pyplot as plt\n",
    "from sklearn.preprocessing import LabelBinarizer, StandardScaler\n",
    "from sklearn.svm import SVC, LinearSVC\n",
    "from sklearn.tree import DecisionTreeClassifier"
   ]
  },
  {
   "cell_type": "markdown",
   "id": "839001ec",
   "metadata": {},
   "source": [
    "# Import the data"
   ]
  },
  {
   "cell_type": "code",
   "execution_count": 3,
   "id": "4ad85113",
   "metadata": {},
   "outputs": [],
   "source": [
    "X_train = np.load(os.path.join(\"data\", \"X_train.npy\"))\n",
    "X_test = np.load(os.path.join(\"data\", \"X_test.npy\"))\n",
    "y_train = np.load(os.path.join(\"data\", \"y_train.npy\"))\n",
    "y_test = np.load(os.path.join(\"data\", \"y_test.npy\"))"
   ]
  },
  {
   "cell_type": "markdown",
   "id": "64380171",
   "metadata": {},
   "source": [
    "## Use model\n",
    "\n",
    "\"For this problem, we will compare different models and provide a description of each model's characteristics and capabilities.\"\n",
    "\n",
    "1. Decision Tree:\n",
    "   - Decision Tree is a supervised learning algorithm used for classification and regression tasks.\n",
    "   - It builds a tree-like model where each internal node represents a feature, each branch represents a decision rule, and each leaf node represents an outcome or prediction.\n",
    "   - The DecisionTreeClassifier is a specific implementation of the decision tree algorithm for classification tasks.\n",
    "\n",
    "2. SGD (Stochastic Gradient Descent):\n",
    "   - SGD is an optimization algorithm commonly used for training linear classifiers or regressors.\n",
    "   - It iteratively updates the model parameters by minimizing the loss function with a small subset of training data in each iteration.\n",
    "   - The SGDClassifier is an implementation of the SGD algorithm for classification tasks.\n",
    "\n",
    "3. Random Forest:\n",
    "   - Random Forest is an ensemble learning method that combines multiple decision trees to make predictions.\n",
    "   - It creates a set of decision trees and aggregates their predictions to obtain the final prediction.\n",
    "   - The RandomForestClassifier is an implementation of the random forest algorithm for classification tasks.\n",
    "\n",
    "4. Perceptron:\n",
    "   - Perceptron is a binary classification algorithm used for linearly separable data.\n",
    "   - It learns a linear decision boundary by iteratively updating the model parameters based on the misclassified instances.\n",
    "   - The Perceptron is a simple linear classifier.\n",
    "\n",
    "5. LinearSVC (Linear Support Vector Classifier):\n",
    "   - LinearSVC is a linear classification algorithm based on Support Vector Machines (SVM).\n",
    "   - It finds the best hyperplane that separates the data into different classes with the largest margin.\n",
    "   - The LinearSVC is specifically designed for linearly separable data.\n",
    "\n",
    "6. Logistic Regression:\n",
    "   - Logistic Regression is a widely used statistical model for binary classification.\n",
    "   - It estimates the probability of a binary outcome based on the input features by applying the logistic function.\n",
    "   - The LogisticRegression model uses the logistic regression algorithm for classification tasks.\n",
    "\n",
    "7. SVC (Support Vector Classifier):\n",
    "   - SVC is a non-linear classification algorithm based on Support Vector Machines (SVM).\n",
    "   - It maps the input data to a high-dimensional feature space and finds the best hyperplane to separate the classes.\n",
    "   - The SVC is a versatile classifier capable of handling non-linear decision boundaries.\n",
    "\n",
    "Each of these models has its own characteristics, strengths, and suitable use cases. The choice of model depends on the nature of the data and the specific problem you are trying to solve."
   ]
  },
  {
   "cell_type": "code",
   "execution_count": 4,
   "id": "bd356298",
   "metadata": {},
   "outputs": [],
   "source": [
    "models = {\n",
    "    \"DecisionTree\": DecisionTreeClassifier(),\n",
    "    \"SGD\": SGDClassifier(),\n",
    "    \"RandomForest\": RandomForestClassifier(),\n",
    "    \"Perceptron\": Perceptron(),\n",
    "    \"LinearSVC\": LinearSVC(C=1),\n",
    "    \"LogisticRegression\": LogisticRegression(),\n",
    "    \"SVC\": SVC(),\n",
    "}\n",
    "\n",
    "final_scores = {}"
   ]
  },
  {
   "cell_type": "markdown",
   "id": "8b34753f",
   "metadata": {},
   "source": [
    "The test_classifier function evaluates a classifier model by fitting it to the training data, performing cross-validation on the testing data, and then printing the accuracy score and standard deviation of the model's performance. The function also updates a dictionary called final_scores with the model's mean accuracy score."
   ]
  },
  {
   "cell_type": "code",
   "execution_count": 5,
   "id": "7c3c0dd3",
   "metadata": {},
   "outputs": [],
   "source": [
    "def test_classificator(classifier: tuple) -> None:\n",
    "    \"\"\"\n",
    "    Tests a classifier model and prints the evaluation scores.\n",
    "\n",
    "    Args:\n",
    "        classifier (tuple): A tuple containing the model name as the first element and the classifier object as the second element.\n",
    "\n",
    "    Returns:\n",
    "        None\n",
    "    \"\"\"\n",
    "    print(\"Starting\", classifier[0])\n",
    "    classifier[1].fit(X_train, y_train)\n",
    "    scores = cross_val_score(classifier[1], X_test, y_test, cv=10, scoring=\"accuracy\")\n",
    "    mean_score = scores.mean()\n",
    "    print(\n",
    "        \"we got a\",\n",
    "        \"{:.2f}\".format(mean_score),\n",
    "        \"accuracy with a standard deviation of\",\n",
    "        \"{:.2f}\".format(scores.std()),\n",
    "    )\n",
    "    print(classifier[0], \"score :\", mean_score)\n",
    "    final_scores[classifier[0]] = mean_score\n",
    "    print()"
   ]
  },
  {
   "cell_type": "markdown",
   "id": "d106b334",
   "metadata": {},
   "source": [
    "## Evaluate each model"
   ]
  },
  {
   "cell_type": "code",
   "execution_count": 6,
   "id": "b4b1d3bf",
   "metadata": {
    "scrolled": false
   },
   "outputs": [
    {
     "name": "stdout",
     "output_type": "stream",
     "text": [
      "Starting DecisionTree\n",
      "we got a 0.72 accuracy with a standard deviation of 0.04\n",
      "DecisionTree score : 0.718\n",
      "\n",
      "Starting SGD\n",
      "we got a 0.79 accuracy with a standard deviation of 0.07\n",
      "SGD score : 0.786\n",
      "\n",
      "Starting RandomForest\n",
      "we got a 0.83 accuracy with a standard deviation of 0.06\n",
      "RandomForest score : 0.8299999999999998\n",
      "\n",
      "Starting Perceptron\n",
      "we got a 0.83 accuracy with a standard deviation of 0.07\n",
      "Perceptron score : 0.826\n",
      "\n",
      "Starting LinearSVC\n"
     ]
    },
    {
     "name": "stderr",
     "output_type": "stream",
     "text": [
      "/home/nicolas/.cache/pypoetry/virtualenvs/ftml-3N6BF953-py3.11/lib/python3.11/site-packages/sklearn/svm/_base.py:1244: ConvergenceWarning: Liblinear failed to converge, increase the number of iterations.\n",
      "  warnings.warn(\n",
      "/home/nicolas/.cache/pypoetry/virtualenvs/ftml-3N6BF953-py3.11/lib/python3.11/site-packages/sklearn/svm/_base.py:1244: ConvergenceWarning: Liblinear failed to converge, increase the number of iterations.\n",
      "  warnings.warn(\n",
      "/home/nicolas/.cache/pypoetry/virtualenvs/ftml-3N6BF953-py3.11/lib/python3.11/site-packages/sklearn/svm/_base.py:1244: ConvergenceWarning: Liblinear failed to converge, increase the number of iterations.\n",
      "  warnings.warn(\n",
      "/home/nicolas/.cache/pypoetry/virtualenvs/ftml-3N6BF953-py3.11/lib/python3.11/site-packages/sklearn/svm/_base.py:1244: ConvergenceWarning: Liblinear failed to converge, increase the number of iterations.\n",
      "  warnings.warn(\n",
      "/home/nicolas/.cache/pypoetry/virtualenvs/ftml-3N6BF953-py3.11/lib/python3.11/site-packages/sklearn/svm/_base.py:1244: ConvergenceWarning: Liblinear failed to converge, increase the number of iterations.\n",
      "  warnings.warn(\n",
      "/home/nicolas/.cache/pypoetry/virtualenvs/ftml-3N6BF953-py3.11/lib/python3.11/site-packages/sklearn/svm/_base.py:1244: ConvergenceWarning: Liblinear failed to converge, increase the number of iterations.\n",
      "  warnings.warn(\n",
      "/home/nicolas/.cache/pypoetry/virtualenvs/ftml-3N6BF953-py3.11/lib/python3.11/site-packages/sklearn/svm/_base.py:1244: ConvergenceWarning: Liblinear failed to converge, increase the number of iterations.\n",
      "  warnings.warn(\n",
      "/home/nicolas/.cache/pypoetry/virtualenvs/ftml-3N6BF953-py3.11/lib/python3.11/site-packages/sklearn/svm/_base.py:1244: ConvergenceWarning: Liblinear failed to converge, increase the number of iterations.\n",
      "  warnings.warn(\n",
      "/home/nicolas/.cache/pypoetry/virtualenvs/ftml-3N6BF953-py3.11/lib/python3.11/site-packages/sklearn/svm/_base.py:1244: ConvergenceWarning: Liblinear failed to converge, increase the number of iterations.\n",
      "  warnings.warn(\n",
      "/home/nicolas/.cache/pypoetry/virtualenvs/ftml-3N6BF953-py3.11/lib/python3.11/site-packages/sklearn/svm/_base.py:1244: ConvergenceWarning: Liblinear failed to converge, increase the number of iterations.\n",
      "  warnings.warn(\n",
      "/home/nicolas/.cache/pypoetry/virtualenvs/ftml-3N6BF953-py3.11/lib/python3.11/site-packages/sklearn/svm/_base.py:1244: ConvergenceWarning: Liblinear failed to converge, increase the number of iterations.\n",
      "  warnings.warn(\n"
     ]
    },
    {
     "name": "stdout",
     "output_type": "stream",
     "text": [
      "we got a 0.86 accuracy with a standard deviation of 0.06\n",
      "LinearSVC score : 0.8640000000000001\n",
      "\n",
      "Starting LogisticRegression\n",
      "we got a 0.85 accuracy with a standard deviation of 0.06\n",
      "LogisticRegression score : 0.852\n",
      "\n",
      "Starting SVC\n",
      "we got a 0.86 accuracy with a standard deviation of 0.06\n",
      "SVC score : 0.8640000000000001\n",
      "\n",
      "DecisionTree score : 0.718\n",
      "SGD score : 0.786\n",
      "RandomForest score : 0.8299999999999998\n",
      "Perceptron score : 0.826\n",
      "LinearSVC score : 0.8640000000000001\n",
      "LogisticRegression score : 0.852\n",
      "SVC score : 0.8640000000000001\n"
     ]
    },
    {
     "data": {
      "image/png": "[encoded data removed]",
      "text/plain": [
       "<Figure size 1500x600 with 1 Axes>"
      ]
     },
     "metadata": {},
     "output_type": "display_data"
    }
   ],
   "source": [
    "for key, value in models.items():\n",
    "    test_classificator((key, value))\n",
    "plt.figure(figsize=(15, 6))\n",
    "plt.xticks([])\n",
    "for i, classifier in enumerate(final_scores.items()):\n",
    "    print(f\"{classifier[0]} score : {classifier[1]}\")\n",
    "    plt.bar(i, classifier[1], label=classifier[0])\n",
    "    plt.text(i, classifier[1], \"{:.3f}\".format(classifier[1]), ha=\"center\", va=\"bottom\")\n",
    "\n",
    "plt.legend(loc=\"center left\", bbox_to_anchor=(1, 0.5))\n",
    "plt.title(\n",
    "    \"Benchmark of the accuracy of the multiple classification algorithms on the given dataset\"\n",
    ")\n",
    "\n",
    "plt.show()"
   ]
  }
 ],
 "metadata": {
  "kernelspec": {
   "display_name": "Python 3 (ipykernel)",
   "language": "python",
   "name": "python3"
  },
  "language_info": {
   "codemirror_mode": {
    "name": "ipython",
    "version": 3
   },
   "file_extension": ".py",
   "mimetype": "text/x-python",
   "name": "python",
   "nbconvert_exporter": "python",
   "pygments_lexer": "ipython3",
   "version": "3.11.3"
  }
 },
 "nbformat": 4,
 "nbformat_minor": 5
}
