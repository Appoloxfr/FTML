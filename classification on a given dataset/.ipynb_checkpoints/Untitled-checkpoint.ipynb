{
 "cells": [
  {
   "cell_type": "code",
   "execution_count": 1,
   "id": "b52aa8a4",
   "metadata": {},
   "outputs": [],
   "source": [
    "import numpy as np\n",
    "import cv2\n",
    "import matplotlib.pyplot as plt\n",
    "import optuna\n",
    "import os\n",
    "from scipy.spatial.distance import cdist"
   ]
  },
  {
   "cell_type": "code",
   "execution_count": 2,
   "id": "5364c0d3",
   "metadata": {},
   "outputs": [],
   "source": [
    "def clean_filename(text: str) -> str:\n",
    "    text = text.replace(\".\", \"_\")\n",
    "    text = text.replace(\" \", \"_\")\n",
    "    return text\n",
    "\n",
    "\n",
    "def create_directory_if_missing(dir_path) -> None:\n",
    "    if not os.path.exists(dir_path):\n",
    "        os.makedirs(dir_path)"
   ]
  },
  {
   "cell_type": "code",
   "execution_count": 3,
   "id": "cb7bf9a9",
   "metadata": {},
   "outputs": [],
   "source": [
    "X_train = np.load(os.path.join(\"data\", \"X_train.npy\"), allow_pickle=True)\n",
    "X_test = np.load(os.path.join(\"data\", \"X_test.npy\"), allow_pickle=True)\n",
    "y_train = np.load(os.path.join(\"data\", \"y_train.npy\"), allow_pickle=True)\n",
    "y_test = np.load(os.path.join(\"data\", \"y_test.npy\"), allow_pickle=True)"
   ]
  },
  {
   "cell_type": "code",
   "execution_count": 4,
   "id": "5a1122ae",
   "metadata": {},
   "outputs": [
    {
     "name": "stdout",
     "output_type": "stream",
     "text": [
      "25000 500\n",
      "(500, 50) (500,)\n"
     ]
    }
   ],
   "source": [
    "print(X_train.size, y_train.size)\n",
    "print(np.shape(X_train), np.shape(y_train))"
   ]
  },
  {
   "cell_type": "code",
   "execution_count": 5,
   "id": "def48afa",
   "metadata": {},
   "outputs": [],
   "source": [
    "sigma = 0.3\n",
    "N_OPTUNA_TRIALS = 200\n",
    "SIGMA_MIN = 1e-6\n",
    "SIGMA_MAX = 1e0"
   ]
  },
  {
   "cell_type": "code",
   "execution_count": 6,
   "id": "de99338e",
   "metadata": {},
   "outputs": [],
   "source": [
    "N_VALIDATION = 250\n",
    "VALIDATION_SET = range(N_VALIDATION)\n",
    "X_VALIDATION = X_test[VALIDATION_SET]\n",
    "y_validation = y_test[VALIDATION_SET]"
   ]
  },
  {
   "cell_type": "code",
   "execution_count": 7,
   "id": "831aa40e",
   "metadata": {},
   "outputs": [
    {
     "name": "stdout",
     "output_type": "stream",
     "text": [
      "range(250, 500)\n"
     ]
    }
   ],
   "source": [
    "N_TEST = 250\n",
    "TEST_SET = range(N_VALIDATION, N_VALIDATION + N_TEST)\n",
    "X_TEST = X_test[TEST_SET]\n",
    "y_test = y_test[TEST_SET]"
   ]
  },
  {
   "cell_type": "code",
   "execution_count": 8,
   "id": "a8fa68d0",
   "metadata": {},
   "outputs": [],
   "source": [
    "create_directory_if_missing(os.path.join(\"images\"))"
   ]
  },
  {
   "cell_type": "code",
   "execution_count": 11,
   "id": "017834da",
   "metadata": {},
   "outputs": [
    {
     "name": "stderr",
     "output_type": "stream",
     "text": [
      "C:\\Users\\Administrateur\\venv\\Lib\\site-packages\\numpy\\lib\\function_base.py:518: RuntimeWarning: Mean of empty slice.\n",
      "  avg = a.mean(axis, **keepdims_kw)\n",
      "C:\\Users\\Administrateur\\venv\\Lib\\site-packages\\numpy\\core\\_methods.py:182: RuntimeWarning: invalid value encountered in divide\n",
      "  ret = um.true_divide(\n",
      "C:\\Users\\Administrateur\\venv\\Lib\\site-packages\\numpy\\lib\\function_base.py:518: RuntimeWarning: Mean of empty slice.\n",
      "  avg = a.mean(axis, **keepdims_kw)\n",
      "C:\\Users\\Administrateur\\venv\\Lib\\site-packages\\numpy\\core\\_methods.py:182: RuntimeWarning: invalid value encountered in divide\n",
      "  ret = um.true_divide(\n",
      "C:\\Users\\Administrateur\\venv\\Lib\\site-packages\\numpy\\lib\\function_base.py:518: RuntimeWarning: Mean of empty slice.\n",
      "  avg = a.mean(axis, **keepdims_kw)\n",
      "C:\\Users\\Administrateur\\venv\\Lib\\site-packages\\numpy\\core\\_methods.py:182: RuntimeWarning: invalid value encountered in divide\n",
      "  ret = um.true_divide(\n",
      "C:\\Users\\Administrateur\\venv\\Lib\\site-packages\\numpy\\lib\\function_base.py:518: RuntimeWarning: Mean of empty slice.\n",
      "  avg = a.mean(axis, **keepdims_kw)\n",
      "C:\\Users\\Administrateur\\venv\\Lib\\site-packages\\numpy\\core\\_methods.py:182: RuntimeWarning: invalid value encountered in divide\n",
      "  ret = um.true_divide(\n",
      "C:\\Users\\Administrateur\\venv\\Lib\\site-packages\\numpy\\lib\\function_base.py:518: RuntimeWarning: Mean of empty slice.\n",
      "  avg = a.mean(axis, **keepdims_kw)\n",
      "C:\\Users\\Administrateur\\venv\\Lib\\site-packages\\numpy\\core\\_methods.py:182: RuntimeWarning: invalid value encountered in divide\n",
      "  ret = um.true_divide(\n",
      "C:\\Users\\Administrateur\\venv\\Lib\\site-packages\\numpy\\lib\\function_base.py:518: RuntimeWarning: Mean of empty slice.\n",
      "  avg = a.mean(axis, **keepdims_kw)\n",
      "C:\\Users\\Administrateur\\venv\\Lib\\site-packages\\numpy\\core\\_methods.py:182: RuntimeWarning: invalid value encountered in divide\n",
      "  ret = um.true_divide(\n",
      "C:\\Users\\Administrateur\\venv\\Lib\\site-packages\\numpy\\lib\\function_base.py:518: RuntimeWarning: Mean of empty slice.\n",
      "  avg = a.mean(axis, **keepdims_kw)\n",
      "C:\\Users\\Administrateur\\venv\\Lib\\site-packages\\numpy\\core\\_methods.py:182: RuntimeWarning: invalid value encountered in divide\n",
      "  ret = um.true_divide(\n",
      "C:\\Users\\Administrateur\\venv\\Lib\\site-packages\\numpy\\lib\\function_base.py:518: RuntimeWarning: Mean of empty slice.\n",
      "  avg = a.mean(axis, **keepdims_kw)\n",
      "C:\\Users\\Administrateur\\venv\\Lib\\site-packages\\numpy\\core\\_methods.py:182: RuntimeWarning: invalid value encountered in divide\n",
      "  ret = um.true_divide(\n"
     ]
    }
   ],
   "source": [
    "averages = np.zeros(shape=(10, 10 * 5))\n",
    "for d in range(10):\n",
    "    selected_samples = X_train[y_train == d]\n",
    "    class_average = np.average(selected_samples, axis=0)\n",
    "    averages[d] = class_average\n",
    "    plt.imshow(class_average.reshape(10, 5))\n",
    "    fig_name = f\"average_{d}.pdf\"\n",
    "    fig_path = os.path.join(\"images\", fig_name)\n",
    "    plt.savefig(fig_path)\n",
    "    plt.close()"
   ]
  },
  {
   "cell_type": "code",
   "execution_count": null,
   "id": "264f4b58",
   "metadata": {},
   "outputs": [],
   "source": []
  }
 ],
 "metadata": {
  "kernelspec": {
   "display_name": "Python 3 (ipykernel)",
   "language": "python",
   "name": "python3"
  },
  "language_info": {
   "codemirror_mode": {
    "name": "ipython",
    "version": 3
   },
   "file_extension": ".py",
   "mimetype": "text/x-python",
   "name": "python",
   "nbconvert_exporter": "python",
   "pygments_lexer": "ipython3",
   "version": "3.11.2"
  }
 },
 "nbformat": 4,
 "nbformat_minor": 5
}
